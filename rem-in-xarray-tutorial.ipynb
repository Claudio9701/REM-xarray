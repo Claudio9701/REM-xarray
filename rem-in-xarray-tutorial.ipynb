{
 "cells": [
  {
   "cell_type": "markdown",
   "id": "2aab4899-4fc2-4295-be37-ffc0df88dc78",
   "metadata": {},
   "source": [
    "# Tutorial: Relative Elevation Model Visualization\n",
    "- Author: [Dahn](https://twitter.com/DahnJahn)\n",
    "- Based on \"[Creating REMs in QGIS with the IDW Method](https://dancoecarto.com/creating-rems-in-qgis-the-idw-method)\" by [Dan Coe](https://twitter.com/geo_coe)\n",
    "- This tutorial re-creates the [Ivalo River Geomorphology](https://dancoecarto.com/ivalo-river-geomorphology) visualization"
   ]
  },
  {
   "cell_type": "markdown",
   "id": "651cb105-f867-48f3-8cbc-e5e26af9ac27",
   "metadata": {},
   "source": [
    "In this tutorial, we create a **Relative Elevation Model** (**REM**) in Python using [xarray](https://docs.xarray.dev/en/stable/)."
   ]
  },
  {
   "cell_type": "markdown",
   "id": "cb04fa3f-d2cf-4cf8-bc09-0e67c5176e30",
   "metadata": {},
   "source": [
    "A REM is created by subtracting the river's elevation from a **Digital Elevation Model**, displaying the **height above river**. This makes the river's [meanders](https://en.wikipedia.org/wiki/Meander) more visible."
   ]
  },
  {
   "attachments": {},
   "cell_type": "markdown",
   "id": "a3844bca-f250-4f42-bc68-e9b24a5f796d",
   "metadata": {},
   "source": [
    "![](https://i.imgur.com/aVHm3yC.png)"
   ]
  },
  {
   "cell_type": "markdown",
   "id": "db4ac820-bb76-45a5-b6d2-49ec31c43a0b",
   "metadata": {},
   "source": [
    "([image source](https://ngmdb.usgs.gov/Info/dmt/docs/DMT16_Coe.pdf))"
   ]
  },
  {
   "cell_type": "markdown",
   "id": "dc641390",
   "metadata": {},
   "source": [
    "# Step 0: Setup"
   ]
  },
  {
   "cell_type": "markdown",
   "id": "a577e4b3",
   "metadata": {},
   "source": [
    "### ONLY NECESSARY ON GOOGLE COLAB"
   ]
  },
  {
   "cell_type": "code",
   "execution_count": null,
   "id": "7c345638",
   "metadata": {},
   "outputs": [],
   "source": [
    "# # Install Git LFS\n",
    "# !curl -s https://packagecloud.io/install/repositories/github/git-lfs/script.deb.sh | sudo bash\n",
    "# !apt-get install git-lfs\n",
    "# !git lfs install\n",
    "\n",
    "# # Clone repo\n",
    "# !rm REM-xarray -rf\n",
    "# !git clone https://github.com/DahnJ/REM-xarray.git\n",
    "\n",
    "# # Change working directory and install requirements\n",
    "# %cd REM-xarray\n",
    "# !pip install -r requirements.txt"
   ]
  },
  {
   "cell_type": "markdown",
   "id": "cd355d0f",
   "metadata": {},
   "source": [
    "### Imports"
   ]
  },
  {
   "cell_type": "code",
   "execution_count": null,
   "id": "9cd27962-5c15-4ea6-84b6-f865d1033e44",
   "metadata": {},
   "outputs": [],
   "source": [
    "from pathlib import Path\n",
    "from IPython.core.display import Video\n",
    "\n",
    "import numpy as np\n",
    "import pandas as pd\n",
    "import geopandas as gpd  # Vector data handling\n",
    "import osmnx as ox  # Downloading data from OSM\n",
    "\n",
    "from shapely.geometry import box\n",
    "from scipy.spatial import cKDTree as KDTree  # For Inverse Distance Weight calculation\n",
    "\n",
    "import xarray as xr\n",
    "import xrspatial  # Hillshading\n",
    "import rioxarray  # Working with geospatial data in xarray\n",
    "\n",
    "import matplotlib.pyplot as plt\n",
    "from datashader.transfer_functions import shade, stack"
   ]
  },
  {
   "cell_type": "markdown",
   "id": "48904f72-e13e-4944-a433-ea601999ac39",
   "metadata": {},
   "source": [
    "## Step 1: Download & Load DEM"
   ]
  },
  {
   "cell_type": "markdown",
   "id": "8ff6e5b1-ee48-4bdc-a6de-6757bfed895d",
   "metadata": {},
   "source": [
    "For this tutorial, we will use DEM of the **Ivalo river** from Finnish [NLS](https://tiedostopalvelu.maanmittauslaitos.fi/tp/kartta?lang=en). \n",
    "\n",
    "Examples of other good sources:\n",
    "- [USGS LidarExplorer](https://prd-tnm.s3.amazonaws.com/LidarExplorer/index.html#/)\n",
    "- [ArcticDEM](https://www.pgc.umn.edu/data/arcticdem/)"
   ]
  },
  {
   "cell_type": "markdown",
   "id": "c649804e-f518-49ae-9a62-b5ee5ed9d75b",
   "metadata": {},
   "source": [
    "#### **VIDEO**: How to download data from NLS"
   ]
  },
  {
   "cell_type": "code",
   "execution_count": null,
   "id": "39625afc-6a6e-4625-9671-7d4716c6b1c0",
   "metadata": {},
   "outputs": [],
   "source": [
    "Video(\"data/howto-download-ivalo-data.mp4\", embed=True)"
   ]
  },
  {
   "cell_type": "markdown",
   "id": "7fe27b3c",
   "metadata": {},
   "source": [
    "The downloaded data can be combined using the convenience function[`combine_by_coords`](https://xarray.pydata.org/en/stable/generated/xarray.combine_by_coords.html#xarray.combine_by_coords)."
   ]
  },
  {
   "cell_type": "markdown",
   "id": "370cab16",
   "metadata": {},
   "source": [
    "Here we use a prepared [netCDF](https://en.wikipedia.org/wiki/NetCDF) file."
   ]
  },
  {
   "cell_type": "code",
   "execution_count": null,
   "id": "22b5905d",
   "metadata": {},
   "outputs": [],
   "source": [
    "path = Path(\"data/output_NASADEM.tif\")\n",
    "dem = rioxarray.open_rasterio(path)"
   ]
  },
  {
   "cell_type": "markdown",
   "id": "3b8a016c",
   "metadata": {},
   "source": [
    "We will make the DEM smaller so that it's easier to work with"
   ]
  },
  {
   "cell_type": "code",
   "execution_count": null,
   "id": "2beeeab6",
   "metadata": {},
   "outputs": [],
   "source": [
    "dem = dem.coarsen(x=3, boundary=\"trim\").mean().coarsen(y=3, boundary=\"trim\").mean()"
   ]
  },
  {
   "cell_type": "markdown",
   "id": "b7401303-da9c-4def-b412-c0373b4f3bdc",
   "metadata": {},
   "source": [
    "Let's plot the DEM"
   ]
  },
  {
   "cell_type": "code",
   "execution_count": null,
   "id": "ec57b4e6-8fea-4e35-af09-4ff34d6317df",
   "metadata": {},
   "outputs": [],
   "source": [
    "dem.squeeze().plot.imshow()"
   ]
  },
  {
   "cell_type": "markdown",
   "id": "e87481ea-3ea4-4162-abf4-0cfacf4460a3",
   "metadata": {},
   "source": [
    "## Step 2: Fetch coordinates of the river"
   ]
  },
  {
   "cell_type": "markdown",
   "id": "d6b96c30-150f-4eb5-8370-8a2b02287fb2",
   "metadata": {},
   "source": [
    "To get coordinates of the river, we can use freely available [OpenStreetMap](https://www.openstreetmap.org/) data. \n",
    "\n",
    "Thanks to [OSMnx](https://github.com/gboeing/osmnx), we can automatically obtain a GeoPandas DataFrame from OSM data."
   ]
  },
  {
   "cell_type": "markdown",
   "id": "cb6b3f61-6ee7-40fc-9de0-68d7cd5a68a3",
   "metadata": {},
   "source": [
    "We thus only need to find out the river's [Way](https://wiki.openstreetmap.org/wiki/Way) ID. Using the [OSM editor](https://www.openstreetmap.org/edit), we find out it's [34406947](https://www.openstreetmap.org/way/34406947)."
   ]
  },
  {
   "cell_type": "markdown",
   "id": "fb28f4f2-2432-4070-9b7d-5640566284e8",
   "metadata": {},
   "source": [
    "#### **VIDEO**: How to get OSM ID"
   ]
  },
  {
   "cell_type": "markdown",
   "id": "d91dd9f0-b1d8-40f4-885d-2251b17c2c9d",
   "metadata": {},
   "source": [
    "**Note**: To get the id when the river is selected in the OSM editor, press `ctrl`+`i`."
   ]
  },
  {
   "cell_type": "code",
   "execution_count": null,
   "id": "b256044f-76c3-42d5-b82c-a8a3c553ee48",
   "metadata": {},
   "outputs": [],
   "source": [
    "Video(\"data/howto-osm-id.mp4\", embed=True)"
   ]
  },
  {
   "cell_type": "code",
   "execution_count": null,
   "id": "7c3c3f30",
   "metadata": {},
   "outputs": [],
   "source": [
    "# osm_id = 'W34406947'\n",
    "\n",
    "# river = ox.geocode_to_gdf(osm_id, by_osmid=True)\n",
    "river = gpd.read_file(\"data/rio_piura.geojson\", driver=\"GeoJSON\")\n",
    "river = river.to_crs(dem.rio.crs)"
   ]
  },
  {
   "cell_type": "markdown",
   "id": "1f7e5b56-0c09-497d-b9cc-a4859fb24704",
   "metadata": {},
   "source": [
    "Let's plot the river"
   ]
  },
  {
   "cell_type": "code",
   "execution_count": null,
   "id": "47537bb7-db98-40f7-baf9-b006fb50cc2f",
   "metadata": {},
   "outputs": [],
   "source": [
    "river.plot()"
   ]
  },
  {
   "cell_type": "markdown",
   "id": "34afcdd2-d473-4ef3-b616-85d340f683a9",
   "metadata": {},
   "source": [
    "## Step 3: Cut to area of interest"
   ]
  },
  {
   "cell_type": "code",
   "execution_count": null,
   "id": "7dcbd3c7-7788-4b73-8eec-54262150e568",
   "metadata": {},
   "outputs": [],
   "source": [
    "xmin, ymin, xmax, ymax = dem.rio.bounds()\n",
    "# xmin, ymin, xmax, ymax = 5.16e5, 7.6095e6, 5.23e5, 7.6155e6\n",
    "# bounds = box(xmin, ymin, xmax, ymax)"
   ]
  },
  {
   "cell_type": "markdown",
   "id": "9f478c62-655f-40d9-9718-e7e61d0a1ab0",
   "metadata": {},
   "source": [
    "#### River"
   ]
  },
  {
   "cell_type": "code",
   "execution_count": null,
   "id": "cbe5cf25-3ef0-46f4-b247-e94b3efc5ceb",
   "metadata": {},
   "outputs": [],
   "source": [
    "river = river.clip(dem.rio.bounds())\n",
    "river_geom = river.geometry.iloc[0]"
   ]
  },
  {
   "cell_type": "markdown",
   "id": "6b05f508-1e07-43d4-89f5-34e22356097f",
   "metadata": {},
   "source": [
    "#### DEM"
   ]
  },
  {
   "cell_type": "code",
   "execution_count": null,
   "id": "b692d14a-92bc-4347-a2ce-aadde53553d9",
   "metadata": {},
   "outputs": [],
   "source": [
    "dem = dem.sel(y=slice(ymax, ymin), x=slice(xmin, xmax))"
   ]
  },
  {
   "cell_type": "markdown",
   "id": "4be52a2a-f45e-4728-8a9c-f1ffa106de7c",
   "metadata": {},
   "source": [
    "Let's check if everything looks good"
   ]
  },
  {
   "cell_type": "code",
   "execution_count": null,
   "id": "94b77314-b172-40fe-a49d-c58fc75549f4",
   "metadata": {},
   "outputs": [],
   "source": [
    "fig, ax = plt.subplots()\n",
    "dem.squeeze().plot.imshow(ax=ax)\n",
    "river.plot(ax=ax, color=\"red\")"
   ]
  },
  {
   "cell_type": "markdown",
   "id": "a37732ea-bfe6-42c9-9d63-8a08734076c5",
   "metadata": {},
   "source": [
    "## Step 4: Calculate REM"
   ]
  },
  {
   "cell_type": "markdown",
   "id": "685fd2c2-5ada-44ba-b247-66d884db38a6",
   "metadata": {},
   "source": [
    "To calculate the REM, we need to \n",
    "1. Sample the elevation along the river\n",
    "2. Interpolate the sampled elevation values to create a 2D elevation raster\n",
    "3. Subtract the interpolated elevation raster from the DEM"
   ]
  },
  {
   "cell_type": "markdown",
   "id": "613ab683-1ad1-4dda-81d9-432d4b3d4bba",
   "metadata": {},
   "source": [
    "### 4.1. Sample"
   ]
  },
  {
   "cell_type": "markdown",
   "id": "b046bae0-923f-48c0-bf02-04d2e5716a81",
   "metadata": {},
   "source": [
    "Extract coordinates as `DataArray`"
   ]
  },
  {
   "cell_type": "code",
   "execution_count": null,
   "id": "165a92b5-98e8-4e8d-b3ed-95f27dcec017",
   "metadata": {},
   "outputs": [],
   "source": [
    "xs, ys = river_geom.xy\n",
    "xs, ys = xr.DataArray(xs, dims=\"z\"), xr.DataArray(ys, dims=\"z\")"
   ]
  },
  {
   "cell_type": "markdown",
   "id": "da4f561a-0682-44f3-8d95-7d9ed44bdcf3",
   "metadata": {},
   "source": [
    "Use xarray's [`interp`](https://xarray.pydata.org/en/stable/generated/xarray.DataArray.interp.html#xarray.DataArray.interp) to extract the river's elevation."
   ]
  },
  {
   "cell_type": "code",
   "execution_count": null,
   "id": "b488b82a-9dfe-4293-a92f-f3eb6d5b4960",
   "metadata": {},
   "outputs": [],
   "source": [
    "sampled = dem.interp(x=xs, y=ys, method=\"nearest\").dropna(dim=\"z\")"
   ]
  },
  {
   "cell_type": "markdown",
   "id": "1361077e-cd2a-4953-b431-7f4a36e76bae",
   "metadata": {
    "tags": []
   },
   "source": [
    "### 4.2. Interpolate"
   ]
  },
  {
   "cell_type": "markdown",
   "id": "b90bbb95-0130-4124-9aff-f6ffe89abbf9",
   "metadata": {},
   "source": [
    "Prepare data for the interpolation"
   ]
  },
  {
   "cell_type": "code",
   "execution_count": null,
   "id": "60aef60e-c783-41c3-8884-87a7e4f7c85e",
   "metadata": {},
   "outputs": [],
   "source": [
    "# Sampled river coordinates\n",
    "c_sampled = np.vstack([sampled.coords[c].values for c in (\"x\", \"y\")]).T\n",
    "\n",
    "# All (x, y) coordinates of the original DEM\n",
    "c_x, c_y = [dem.coords[c].values for c in (\"x\", \"y\")]\n",
    "c_interpolate = np.dstack(np.meshgrid(c_x, c_y)).reshape(-1, 2)\n",
    "\n",
    "# Sampled values\n",
    "values = sampled.values.ravel()"
   ]
  },
  {
   "cell_type": "markdown",
   "id": "d786da8a-a022-439b-a988-689a4393d750",
   "metadata": {},
   "source": [
    "Perform the interpolation. Here we use a simple implementation of [IWD](https://en.wikipedia.org/wiki/Inverse_distance_weighting) which averages the 5 nearest points, weighted by inverse distance."
   ]
  },
  {
   "cell_type": "code",
   "execution_count": null,
   "id": "f35cf4f6-6ffc-49ad-bebe-e0b0e3d12265",
   "metadata": {},
   "outputs": [],
   "source": [
    "tree = KDTree(c_sampled)"
   ]
  },
  {
   "cell_type": "code",
   "execution_count": null,
   "id": "9060687c-312f-45a8-8d4b-fd1e5532699d",
   "metadata": {},
   "outputs": [],
   "source": [
    "# IWD interpolation\n",
    "distances, indices = tree.query(c_interpolate, k=24)\n",
    "\n",
    "weights = 1 / distances\n",
    "weights = weights / weights.sum(axis=1).reshape(-1, 1)\n",
    "\n",
    "interpolated_values = (weights * values[indices]).sum(axis=1)"
   ]
  },
  {
   "cell_type": "markdown",
   "id": "a91b5733-f341-44a8-82f7-04155d713a23",
   "metadata": {},
   "source": [
    "We create a `DataArray` out of the inerpolated values"
   ]
  },
  {
   "cell_type": "code",
   "execution_count": null,
   "id": "9c8762a5-6bc6-4c42-ad76-9817d9923197",
   "metadata": {},
   "outputs": [],
   "source": [
    "elevation_raster = xr.DataArray(\n",
    "    interpolated_values.reshape((len(c_y), len(c_x))).T, dims=(\"x\", \"y\"), coords={\"x\": c_x, \"y\": c_y}\n",
    ")"
   ]
  },
  {
   "cell_type": "code",
   "execution_count": null,
   "id": "f2364843-3984-4c1e-b7cd-9b55fe6e5294",
   "metadata": {},
   "outputs": [],
   "source": [
    "fig, ax = plt.subplots()\n",
    "elevation_raster.transpose().plot.imshow(ax=ax)\n",
    "river.plot(ax=ax, color=\"red\")"
   ]
  },
  {
   "cell_type": "markdown",
   "id": "4fb81b19-b415-40d2-98e4-ac3886f3672a",
   "metadata": {},
   "source": [
    "### 4.3. Calculate"
   ]
  },
  {
   "cell_type": "code",
   "execution_count": null,
   "id": "7a647631-d344-4e62-b1d6-c35dda2bcf40",
   "metadata": {},
   "outputs": [],
   "source": [
    "rem = dem - elevation_raster"
   ]
  },
  {
   "cell_type": "markdown",
   "id": "64c1f402-498e-49c8-a025-538d82008fe8",
   "metadata": {},
   "source": [
    "# Step 5: Visualize"
   ]
  },
  {
   "cell_type": "markdown",
   "id": "96deab44-b988-4bc3-8561-0a8501cc19c4",
   "metadata": {},
   "source": [
    "Let's make some pretty REM visualizations!"
   ]
  },
  {
   "cell_type": "code",
   "execution_count": null,
   "id": "fe44948e-e82e-48c9-94cf-2a6514d7955a",
   "metadata": {},
   "outputs": [],
   "source": [
    "colors = [\n",
    "    \"#f2f7fb\",\n",
    "    \"#81a8cb\",\n",
    "    \"#000000\"\n",
    "    # \"#37123d\"\n",
    "]"
   ]
  },
  {
   "cell_type": "code",
   "execution_count": null,
   "id": "c8589ff3",
   "metadata": {},
   "outputs": [],
   "source": [
    "only_rem = shade(rem.squeeze(), cmap=colors, span=[0, 10], how=\"linear\")\n",
    "only_rem"
   ]
  },
  {
   "cell_type": "markdown",
   "id": "f86faafe",
   "metadata": {},
   "source": [
    "<!-- ![](https://i.imgur.com/MFagpMt.jpg) -->"
   ]
  },
  {
   "cell_type": "code",
   "execution_count": null,
   "id": "1cca6a9a",
   "metadata": {},
   "outputs": [],
   "source": [
    "only_rem.to_pil().save(\"data/rem.png\")"
   ]
  },
  {
   "cell_type": "markdown",
   "id": "1d8d3b89-0ed4-4d25-b840-da7bd94f6549",
   "metadata": {},
   "source": [
    "We can also visualize the DEM along with the REM"
   ]
  },
  {
   "cell_type": "code",
   "execution_count": null,
   "id": "ed0e5c0d",
   "metadata": {},
   "outputs": [],
   "source": [
    "a = shade(xrspatial.hillshade(dem.squeeze(), angle_altitude=1, azimuth=310), cmap=[\"black\", \"white\"], how=\"linear\")\n",
    "b = shade(rem.squeeze(), cmap=colors, span=[0, 20], how=\"linear\", alpha=200)\n",
    "result_rem = stack(a, b)\n",
    "result_rem"
   ]
  },
  {
   "cell_type": "markdown",
   "id": "5a5b4975",
   "metadata": {},
   "source": [
    "<!-- ![](https://i.imgur.com/jRXcHVi.jpg) -->"
   ]
  },
  {
   "cell_type": "code",
   "execution_count": null,
   "id": "d7e87115",
   "metadata": {},
   "outputs": [],
   "source": [
    "result_rem_img = result_rem.to_pil()"
   ]
  },
  {
   "cell_type": "code",
   "execution_count": null,
   "id": "a20ebda8",
   "metadata": {},
   "outputs": [],
   "source": [
    "result_rem_img.save(\"data/rem-hillshade.png\")"
   ]
  },
  {
   "cell_type": "code",
   "execution_count": null,
   "id": "8e01e17b",
   "metadata": {},
   "outputs": [],
   "source": [
    "result_rem_img.putalpha(100)"
   ]
  },
  {
   "cell_type": "code",
   "execution_count": null,
   "id": "ba59eea2",
   "metadata": {},
   "outputs": [],
   "source": [
    "# Read shapefile of piura\n",
    "piura_mzn = gpd.read_file(\"data/PIURA_PIURA_2001_Manzanas_Poblacion_JP_SuyoPomalia_geogpsperu_931381206\")"
   ]
  },
  {
   "cell_type": "code",
   "execution_count": null,
   "id": "4d3462b8",
   "metadata": {},
   "outputs": [],
   "source": [
    "import plotly.express as px\n",
    "\n",
    "# Trick to create rapidly a figure with mapbox axes\n",
    "# Transparent colorscale\n",
    "\n",
    "fig = px.choropleth_mapbox(\n",
    "    piura_mzn,\n",
    "    geojson=piura_mzn.geometry,\n",
    "    locations=piura_mzn.index,\n",
    "    color=\"T_TOTAL\",\n",
    "    color_continuous_scale=\"YlOrRd\",\n",
    "    center={\"lat\": float(dem.coords[\"y\"].mean().values), \"lon\": float(dem.coords[\"x\"].mean().values)},\n",
    "    zoom=10,\n",
    ")\n",
    "fig.update_layout(margin={\"r\": 0, \"t\": 0, \"l\": 0, \"b\": 0})\n",
    "# Remove border of polyogns\n",
    "fig.update_traces(marker_line_width=0)\n",
    "# Update colorscale Legend\n",
    "fig.update_layout(\n",
    "    coloraxis_colorbar=dict(\n",
    "        title=\"Total Population\",\n",
    "        title_font_color=\"white\",\n",
    "        thicknessmode=\"pixels\",\n",
    "        thickness=15,\n",
    "        lenmode=\"pixels\",\n",
    "        len=300,\n",
    "        yanchor=\"top\",\n",
    "        y=1,\n",
    "        xanchor=\"left\",\n",
    "        x=0,\n",
    "        ticks=\"outside\",\n",
    "        tickfont_color=\"white\",\n",
    "        tickprefix=\"\",\n",
    "        ticksuffix=\"\",\n",
    "        dtick=1000,\n",
    "    )\n",
    ")\n",
    "\n",
    "# Add the datashader image as a mapbox layer image\n",
    "fig.update_layout(\n",
    "    mapbox_style=\"carto-darkmatter\",\n",
    "    mapbox_layers=[\n",
    "        {\n",
    "            \"sourcetype\": \"image\",\n",
    "            \"source\": result_rem_img,\n",
    "            \"coordinates\": [\n",
    "                [xmin, ymin],\n",
    "                [xmax, ymin],\n",
    "                [xmax, ymax],\n",
    "                [xmin, ymax],\n",
    "            ],\n",
    "        }\n",
    "    ],\n",
    ")\n",
    "# Save fig to file\n",
    "fig.write_html(\"piura_rem_test.html\")\n",
    "fig.show()"
   ]
  },
  {
   "cell_type": "markdown",
   "id": "85072480",
   "metadata": {},
   "source": []
  },
  {
   "cell_type": "markdown",
   "id": "48736c7b",
   "metadata": {},
   "source": []
  },
  {
   "cell_type": "markdown",
   "id": "ba2092d7",
   "metadata": {},
   "source": []
  }
 ],
 "metadata": {
  "kernelspec": {
   "display_name": "Python 3 (ipykernel)",
   "language": "python",
   "name": "python3"
  },
  "language_info": {
   "codemirror_mode": {
    "name": "ipython",
    "version": 3
   },
   "file_extension": ".py",
   "mimetype": "text/x-python",
   "name": "python",
   "nbconvert_exporter": "python",
   "pygments_lexer": "ipython3",
   "version": "3.11.4"
  }
 },
 "nbformat": 4,
 "nbformat_minor": 5
}
